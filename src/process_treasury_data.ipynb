{
 "cells": [
  {
   "cell_type": "code",
   "execution_count": 1,
   "metadata": {},
   "outputs": [],
   "source": [
    "import os\n",
    "import sys\n",
    "import pandas as pd\n",
    "\n",
    "# Ensure 'src' is in sys.path\n",
    "sys.path.append(os.path.abspath(\"./src\"))  # Add 'src' to the path\n",
    "\n",
    "# Now import config from settings.py\n",
    "from settings import config  # <- FIXED\n",
    "\n",
    "# Set data directory\n",
    "DATA_DIR = config(\"DATA_DIR\")\n",
    "MANUAL_DATA_DIR = config(\"MANUAL_DATA_DIR\")\n",
    "OUTPUT_DIR = config(\"OUTPUT_DIR\")\n",
    "\n",
    "# Import required functions\n",
    "from calc_treasury_data import calc_treasury\n",
    "from calc_treasury_data import calc_treasury, parse_contract_date, interpolate_ois, rolling_outlier_flag\n"
   ]
  },
  {
   "cell_type": "code",
   "execution_count": 2,
   "metadata": {},
   "outputs": [
    {
     "name": "stdout",
     "output_type": "stream",
     "text": [
      "           Date  Mat_Month  Mat_Year  Mat_Day\n",
      "0    2000-01-31          1      2000       31\n",
      "1    2000-02-29          2      2000       29\n",
      "2    2000-03-31          3      2000       31\n",
      "3    2000-04-28          4      2000       28\n",
      "4    2000-05-31          5      2000       31\n",
      "..          ...        ...       ...      ...\n",
      "298  2024-11-29         11      2024       29\n",
      "299  2024-12-31         12      2024       31\n",
      "300  2025-01-31          1      2025       31\n",
      "301  2025-02-28          2      2025       28\n",
      "302  2025-03-28          3      2025       28\n",
      "\n",
      "[303 rows x 4 columns]\n"
     ]
    },
    {
     "name": "stderr",
     "output_type": "stream",
     "text": [
      "U:\\GitRepositories\\final_projects_2025\\p12_treasury_sf_arb\\src\\calc_treasury_data.py:256: FutureWarning: DataFrame.fillna with 'method' is deprecated and will raise in a future version. Use obj.ffill() or obj.bfill() instead.\n",
      "  df_out.fillna(method='ffill', inplace=True, limit=5)\n"
     ]
    },
    {
     "name": "stdout",
     "output_type": "stream",
     "text": [
      "Final output saved to \\\\pfileaws.ofr.treas.gov\\OFR_UNIXHOME\\jbejarano\\GitRepositories\\final_projects_2025\\p12_treasury_sf_arb\\_data\\treasury_sf_output.csv\n"
     ]
    }
   ],
   "source": [
    "data_dir = DATA_DIR\n",
    "\n",
    "treasury_file = os.path.join(data_dir, \"treasury_df.csv\")\n",
    "ois_file = os.path.join(data_dir, \"ois_df.csv\")\n",
    "last_day_file = os.path.join(data_dir, \"last_day_df.csv\")\n",
    "\n",
    "# Load data\n",
    "df = pd.read_csv(treasury_file)\n",
    "df_ois = pd.read_csv(ois_file)\n",
    "last_day_df = pd.read_csv(last_day_file)\n",
    "\n",
    "print(last_day_df)\n",
    "\n",
    "# Convert date columns to datetime format\n",
    "df[\"Date\"] = pd.to_datetime(df[\"Date\"])\n",
    "df_ois[\"Date\"] = pd.to_datetime(df_ois[\"Date\"])\n",
    "\n",
    "\n",
    "# Run data processing\n",
    "calc_treasury()\n",
    "\n",
    "\n"
   ]
  }
 ],
 "metadata": {
  "language_info": {
   "name": "python"
  }
 },
 "nbformat": 4,
 "nbformat_minor": 2
}
